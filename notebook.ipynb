{
 "cells": [
  {
   "cell_type": "markdown",
   "metadata": {},
   "source": [
    "# HeNe Laser Lab Notes\n",
    "\n",
    "## 2019-02-06\n",
    "\n",
    "We got the laser to work by adjusting the moveable mirror slightly. It was almost already aligned.\n",
    "\n",
    "FINDING MODE PATTERNS\n",
    "- By slightly moving the two dials of the mirror (ajusting vertical and horizontal alignment) we started to see different modes appear on the camera\n",
    "\n",
    "Rectangular TEM (Transverse electromagnetic modes) patterns were the easiest to clearly achieve. \n",
    "Cylindrical TEM mode patterns did appear, but only in a combination with rectangular patterns. (Except for TEM(00), which is the same for rectangular and cylindrical patterns)\n",
    "\n",
    "Rectangular TEM(02)\n",
    "\n",
    "![title](images_2019_02_06/TEM_02.jpg)\n",
    "\n",
    "Rectangular TEM(11)\n",
    "\n",
    "![title](images_2019_02_06/TEM_11.jpg)\n",
    "\n",
    "Rectangular TEM(21)\n",
    "\n",
    "![title](images_2019_02_06/TEM_21.jpg)\n",
    "\n",
    "Combination of rectangular TEM(33) + cilyndrical TEM(not clearly defined)\n",
    "\n",
    "![title](images_2019_02_06/TEM_33_combination.jpeg)\n",
    "\n",
    "In this last image we can see how a superposition (or combination) of modes was achieved. This was the most common situation when adjusting the dials.\n",
    "\n",
    "\n",
    "SPECTROSCOPY\n",
    "- Set up lock-in amplifier at phase 0 for 0-90 and 0 for 0-180, Sensitivity 30 mV\n",
    "- Frequency of chopper is 107 Hz +/- 1\n",
    "- Turned dial on michromotor to see at which wavelengths the signal on oscilloscope drops and when the lock-in amplifier voltage gauge changes.\n",
    "    \n",
    "From turning the chopper, we observed ripples in the voltage reading of the photomultiplier at 599 nm and 615 nm.\n",
    "\n",
    "\n",
    "| Wavelength | voltage | modulated | measurement on lock-in |\n",
    "|-|-|-|-|\n",
    "|505 nm |  -633 mV | - | - |\n",
    "| 538 nm | -130 mV | - | - |\n",
    "| 581 nm | -250 mV | - | - |\n",
    "| 587 nm | -146 mV | - | - |\n",
    "| 590 nm | -660 mV | - | - |\n",
    "| 593 nm | - 1.05 V | - | - |\n",
    "| 599 nm | -400 mV | modulated | -5dB |\n",
    "| 615 nm | -380 mV | modulated | -6 dB |\n",
    "| 619 nm | -386 mV | - | - |\n",
    "| 632 nm | -150 mV | - | - |\n",
    "| 645 nm | -520 mV | modulated | +0.8 dB |\n",
    "| 785 nm | -300 mV | - | - |\n",
    "\n",
    "\n",
    "### Repeated measurements at Sensitivity at 10dB\n",
    "\n",
    "__bold__ denotes that this wavelength did not show up at previous sensitivity \n",
    "\n",
    "| Wavelength | voltage | measurement on lock-in |\n",
    "|-|-|-|\n",
    "| 505 nm |  -633 mV | - |\n",
    "| 538 nm | -130 mV | - |\n",
    "| 581 nm | -250 mV | +1 dB  |\n",
    "| 587 nm | -146 mV | +0.8 dB |\n",
    "| 590 nm | -660 mV | +3 dB |\n",
    "| 593 nm | - 1.05 V | +.5 dB |\n",
    "| 599 nm | -400 mV | ~~pos (gauge overloaded)~~ probably recorded wrong. It should be negative. |\n",
    "| __608 nm__ | -83 mV | +0.4 dB |\n",
    "\n",
    "### Sensitivity was changed to 3 dB\n",
    "\n",
    "|wavelength|voltage|measurement on lock-in|\n",
    "|-|-|-|\n",
    "|__613 nm__ | -190 mV | neg |\n",
    "|615 nm | -380 mV | neg|\n",
    "|619 nm | -386 mV | pos|\n",
    "|__622 nm__| -120 mV | pos|\n",
    "|632 nm | -150 mV | -.3 dB * Needle moving back and forth . Probably just noise. |\n",
    "|__639 nm__ | -105 mV | pos|\n",
    "|645 nm | -520 mV | pos|\n",
    "|__657 nm__ |  -130 mV | pos|\n",
    "|__666 nm__ | -50 mV | pos|\n",
    "|__674 nm__ | -130 mV | neg|\n",
    "\n",
    "Higher sensitivity of the lock-in amplifier enables more wavelengths to be detected. Sensitivity of 3 mV worked best, as sensitivity of 1 mV picked up too much noise.\n",
    "    \n",
    "We would have expected the 632 nm line to have the largest absolute voltage reading since we know that the primary emission wavelength of the HeNe laser is 632.8 nm.\n",
    "But it seems that the largest absolute reading is 645 nm.| "
   ]
  },
  {
   "cell_type": "markdown",
   "metadata": {},
   "source": [
    "## 2019-02-13\n",
    "\n",
    "Discussed with TAs / prof today about the wavelengths.\n",
    "We have been told that the readings on our monochromator are likely not correct and have some offset in the readings.\n",
    "This is consistent with our observations last day that the primary emission wavelength does not seem to be at 632.8 nm.\n",
    "\n",
    "Today the laser was also unaligned. Following the instructions in the video, we used the following alignment steps:\n",
    "\n",
    "1. loosen the base mount\n",
    "2. raise the vertical alignment to be higher than where it should be aligned\n",
    "3. wiggle the base left and right while slowly lowering the mirror alignment until flashes are seen\n",
    "\n",
    "This process took about 7 minutes.\n",
    "\n",
    "We experimented with adjusting the position of the mirror.\n",
    "At some positions the laser will stop emitting. One such distance was approximately 36.5 cm\n",
    "for mirror-mirror separation. Another is at about 60.5cm for mirror-mirror separation.\n",
    "\n",
    "These measurements are not very accurate since the mirror is positioned quite far away from\n",
    "the point of measurement\n",
    "\n",
    "| positions of minimal intensity (cm) |\n",
    "|-|\n",
    "| ~~36.5~~ |\n",
    "| ~~39.0~~ |\n",
    "| ~~40.5~~ |\n",
    "| ~~41.0~~ |\n",
    "| ~~42.0~~ |\n",
    "| ~~44.0~~ | \n",
    "| ~~60.5~~ | \n",
    "\n",
    "The readings above went to minimal intensity simply because we screwed up the horizontal alignment too much\n",
    "when moving the mirror. We can't actually find any points where the laser should not work anymore.\n",
    "\n",
    "This makes sense since manual adjustments are unlikely to be precise enough to find a minimum.\n",
    "This is supported by the calculation below which computes the mode number for the laser, with a slight perturbation of 10 $\\mu m$.\n",
    "This perturbation causes a mode number difference of 32, which is a lot.\n"
   ]
  },
  {
   "cell_type": "code",
   "execution_count": 1,
   "metadata": {},
   "outputs": [
    {
     "name": "stdout",
     "output_type": "stream",
     "text": [
      "1896333.7547408342\n",
      "1896365.3603034136\n"
     ]
    }
   ],
   "source": [
    "lambda_c = 632.8 * (10**-9)\n",
    "L1 = 0.6\n",
    "L2 = 0.60001\n",
    "n1 = 2 * L1 / lambda_c\n",
    "n2 = 2 * L2 / lambda_c\n",
    "print(n1)\n",
    "print(n2)"
   ]
  },
  {
   "cell_type": "markdown",
   "metadata": {},
   "source": [
    "# 2019-02-27\n",
    "\n",
    "## Repeated measurements at Sensitivity 3 dB after calibration\n",
    "\n",
    "Time constant: TC x 0.1 BW x 10\n",
    "\n",
    "|wavelength|voltage|measurement on lock-in| comments | \n",
    "|-|-|-|-| \n",
    "| 393 nm | -430 mV | No change | - | \n",
    "| 407 nm | -70 mV | No change | - | \n",
    "| 451 nm | -384 mV | No change | - | \n",
    "| 475 nm | -175 mV | No change | - | \n",
    "| 496 nm | -150 mV | No change | - | \n",
    "| 506 nm | -520 mV | No change | - | \n",
    "| 508 nm | -80 mV | No change | - |  \n",
    "| 509 nm | -40 mV | No change | - | \n",
    "| 512 nm | -40 mV | No change | - | \n",
    "| 538 nm | -86 mV | No change | - | \n",
    "| 581 nm | -186 mV | +2 dB | 3 dB sensitivity | \n",
    "| 587 nm | -110 mv | +4 dB | 1 dB sensitivity | \n",
    "| 590 nm | -510 mv | +5 dB | 3 dB sensitivity | \n",
    "| 593 nm | -800 mV | - | Oscillating a lot. Probably just noise. | \n",
    "| 595 nm | -60 mV | +5 dB | 1 dB sensitivity | \n",
    "| 599 nm | -280 mV | -9 dB | 10 dB sensitivity | \n",
    "| 608 nm | -66 mV | +3 dB | 1 dB sensitivity | \n",
    "| 613 nm |  -150 mV | -6 dB |  3 dB sensitivity | \n",
    "| 615 nm | -260 mV | -3 dB | 30 dB sensitivity | \n",
    "| 620 nm | -285 mV | +3 dB | 3 dB sensitivity | \n",
    "| 622 nm | -100 mV | +5 dB | 1 dB sensitivty | \n",
    "| 627 nm | -40 mV | No change | - | \n",
    "| 632 nm | -100 mV | - | Small oscillations. Probably just noise. | \n",
    "| 639 nm | -80 mV | +2 dB | 1 dB sensitivity |  \n",
    "| 644 nm | -100 mV | +4-8 dB | 0.3 dB sensitivity; possibly noise | \n",
    "| 646 nm | -360 mV | +4-+5 dB |  3 dB sensitivity | \n",
    "| 656 nm | -100 mV | +2-+4 dB |  1 dB sensitivity | \n",
    "| 665 nm | -40 mV | +1-+3 dB |  1 dB sensitivity | \n",
    "| 674 nm | -100 mV | -6 dB | 3 dB sensitivity |\n",
    "| 678 nm | -30 mV | No change | - | \n",
    "| 699 nm | -20 mV | 1.5 dB | 0.3 dB sensitivity; increased time constant to 400| \n",
    "| 710 nm | -25 mV | +2 dB | 0.3 dB sensitivity | \n",
    "| 785 nm | -222 mV | - | Small oscillations. Probably just noise. | \n",
    "| 814 nm | -30 mV | No change |  - | \n"
   ]
  },
  {
   "cell_type": "markdown",
   "metadata": {},
   "source": [
    "## Monochromator calibration\n",
    "\n",
    "| Monochromator wavelength (nm)| Expected wavelength nearby (nm)|Photomultiplier voltage (mv)|\n",
    "|-|-|-|\n",
    "|409|404.656|-600|\n",
    "|440|435.833|-5000|\n",
    "|551|546.074|-3500|\n",
    "|582|576.960|-80|\n",
    "|584|579.066|-80|\n",
    "\n",
    "__note__ somehow we did not detect any wavelength that we expected to correspond with the 407.783 nm line.\n",
    "\n",
    "Based on the link: https://www.newport.com/t/calibrating-cornerstone-monochromators-and-ms260i-spectrographs, a monochromator should have a calibration of offset as well a slope. "
   ]
  },
  {
   "cell_type": "markdown",
   "metadata": {},
   "source": [
    "### Code for linear fit"
   ]
  },
  {
   "cell_type": "code",
   "execution_count": 13,
   "metadata": {},
   "outputs": [
    {
     "name": "stdout",
     "output_type": "stream",
     "text": [
      " \n",
      "-0.004549 x - 2.347\n"
     ]
    },
    {
     "data": {
      "image/png": "[encoded data removed]",
      "text/plain": [
       "<Figure size 1000x600 with 1 Axes>"
      ]
     },
     "metadata": {
      "needs_background": "light"
     },
     "output_type": "display_data"
    }
   ],
   "source": [
    "import numpy as np\n",
    "import matplotlib.pyplot as plt\n",
    "\n",
    "rows = []\n",
    "with open('mercury-argon.txt', 'r') as f:\n",
    "    for line in f:\n",
    "        row = []\n",
    "        for column in line.split('|'):\n",
    "            try:\n",
    "                row.append(float(column))\n",
    "            except:\n",
    "                continue\n",
    "        rows.append(row)\n",
    "        \n",
    "x = []\n",
    "y = []\n",
    "for row in rows:\n",
    "    x.append(row[0])\n",
    "    y.append(row[1]-row[0])\n",
    "calib = np.poly1d(np.polyfit(x, y, 1))\n",
    "print(calib)\n",
    "\n",
    "x2 = [400,600]\n",
    "fig1 = plt.figure(num=None, figsize=(10, 6), dpi=100)\n",
    "plt.xlim(400,600)\n",
    "plt.ylim(-6,-3)\n",
    "plt.title('Monochromator offset and scaling calibration')\n",
    "plt.ylabel('wavelength offset from real value (nm)')\n",
    "plt.xlabel('wavelength reading (nm)')\n",
    "plt.errorbar(x,y,yerr=1,fmt='.y')\n",
    "plt.plot(x,y,'yo',x2,calib(x2),'--k')\n",
    "plt.legend([\"monochromator wavelength readings\", \"-0.004549x - 2.347\"]);\n",
    "\n"
   ]
  },
  {
   "cell_type": "markdown",
   "metadata": {},
   "source": [
    "### Linear fit:\n",
    "\n",
    "__slope__: -0.004549\n",
    "\n",
    "__offset__: -2.347\n"
   ]
  },
  {
   "cell_type": "markdown",
   "metadata": {},
   "source": [
    "### Code to create table using monochromator calibration"
   ]
  },
  {
   "cell_type": "code",
   "execution_count": 3,
   "metadata": {},
   "outputs": [],
   "source": [
    "with open('hene.txt', 'r') as f_in:\n",
    "    with open('hene-calib.txt', 'w') as f_out:\n",
    "        for line in f_in:\n",
    "            columns = line.split('|')\n",
    "            wavelength = float(columns[1].split()[0])\n",
    "            columns[1] =  '{0:g}'.format(round(wavelength + calib(wavelength)))\n",
    "            f_out.write('|'.join(columns))"
   ]
  },
  {
   "cell_type": "markdown",
   "metadata": {},
   "source": [
    "### Modified HeNe data using calibrated wavelengths\n",
    "\n",
    "|wavelength (nm)|voltage|measurement on lock-in| comments | \n",
    "|-|-|-|-| \n",
    "|389| -430 mV | No change | - |\n",
    "|403| -70 mV | No change | - |\n",
    "|447| -384 mV | No change | - |\n",
    "|470| -175 mV | No change | - |\n",
    "|491| -150 mV | No change | - |\n",
    "|501| -520 mV | No change | - |\n",
    "|503| -80 mV | No change | - |\n",
    "|504| -40 mV | No change | - |\n",
    "|507| -40 mV | No change | - |\n",
    "|533| -86 mV | No change | - |\n",
    "|576| -186 mV | +2 dB | 3 dB sensitivity |\n",
    "|582| -110 mv | +4 dB | 1 dB sensitivity |\n",
    "|585| -510 mv | +5 dB | 3 dB sensitivity |\n",
    "|588| -800 mV | - | Oscillating a lot. Probably just noise. |\n",
    "|590| -60 mV | +5 dB | 1 dB sensitivity |\n",
    "|594| -280 mV | -9 dB | 10 dB sensitivity |\n",
    "|603| -66 mV | +3 dB | 1 dB sensitivity |\n",
    "|608|  -150 mV | -6 dB |  3 dB sensitivity |\n",
    "|610| -260 mV | -3 dB | 30 dB sensitivity |\n",
    "|615| -285 mV | +3 dB | 3 dB sensitivity |\n",
    "|617| -100 mV | +5 dB | 1 dB sensitivty |\n",
    "|622| -40 mV | No change | - |\n",
    "|627| -100 mV | - | Small oscillations. Probably just noise. |\n",
    "|634| -80 mV | +2 dB | 1 dB sensitivity |\n",
    "|639| -100 mV | +4-8 dB | 0.3 dB sensitivity; possibly noise |\n",
    "|641| -360 mV | +4-+5 dB |  3 dB sensitivity |\n",
    "|651| -100 mV | +2-+4 dB |  1 dB sensitivity |\n",
    "|660| -40 mV | +1-+3 dB |  1 dB sensitivity |\n",
    "|669| -100 mV | -6 dB | 3 dB sensitivity |\n",
    "|673| -30 mV | No change | - |\n",
    "|693| -20 mV | 1.5 dB | 0.3 dB sensitivity; increased time constant to 400|\n",
    "|704| -25 mV | +2 dB | 0.3 dB sensitivity |\n",
    "|779| -222 mV | - | Small oscillations. Probably just noise. |\n",
    "|808| -30 mV | No change |  - |\n"
   ]
  },
  {
   "cell_type": "markdown",
   "metadata": {},
   "source": [
    "Even after calibrating the wavelength data, it semes there is still a 1nm difference for some wavelengths than the expected value. For example, we expect a line at 593 nm and 633 nm, but instead we have 594 and 634. This could be due the precision error in the monochromator, where it only gives values in increments of 1 nm."
   ]
  },
  {
   "cell_type": "code",
   "execution_count": null,
   "metadata": {},
   "outputs": [],
   "source": [
    "from scipy.optimize import curve_fit\n",
    "#Data\n",
    "x = arange(1,10,0.2)\n",
    "ynoise = x*numpy.random.rand(len(x)) \n",
    "#Noise; noise is scaled by x, in order to it be noticable on a x-squared function\n",
    "ydata = x**2 + ynoise #Noisy data\n",
    "\n",
    "#Model\n",
    "Fofx = lambda x,a,b,c: a*x**2+b*x+c\n",
    "#Best fit parameters\n",
    "p, cov = curve_fit(Fofx,x,ydata)\n",
    "\n"
   ]
  }
 ],
 "metadata": {
  "kernelspec": {
   "display_name": "Python 3",
   "language": "python",
   "name": "python3"
  },
  "language_info": {
   "codemirror_mode": {
    "name": "ipython",
    "version": 3
   },
   "file_extension": ".py",
   "mimetype": "text/x-python",
   "name": "python",
   "nbconvert_exporter": "python",
   "pygments_lexer": "ipython3",
   "version": "3.6.6"
  }
 },
 "nbformat": 4,
 "nbformat_minor": 2
}
